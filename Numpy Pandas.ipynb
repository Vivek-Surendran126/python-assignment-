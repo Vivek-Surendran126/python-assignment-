{
 "cells": [
  {
   "cell_type": "code",
   "execution_count": 1,
   "id": "35323642-ca0c-4d9a-9471-0cffc642ea25",
   "metadata": {},
   "outputs": [
    {
     "name": "stdout",
     "output_type": "stream",
     "text": [
      "[[ 1  2  3  4  5]\n",
      " [ 6  7  8  9 10]]\n"
     ]
    }
   ],
   "source": [
    "import numpy as np\n",
    "# creaiting and reshaping matrix.\n",
    "matrix = np.array(range(1, 11)).reshape(2, 5)\n",
    "\n",
    "print(matrix)\n",
    "\n"
   ]
  },
  {
   "cell_type": "code",
   "execution_count": 3,
   "id": "9fdfe98a-6058-4175-98e0-e626bf79cbae",
   "metadata": {},
   "outputs": [
    {
     "name": "stdout",
     "output_type": "stream",
     "text": [
      "[ 6  7  8  9 10 11 12 13 14 15]\n"
     ]
    }
   ],
   "source": [
    "import numpy as np\n",
    "#Creating and extracting metrix\n",
    "array = np.array(range(1, 21))\n",
    "subset = array[5:15]\n",
    "\n",
    "print(subset)\n",
    "\n",
    "\n"
   ]
  },
  {
   "cell_type": "code",
   "execution_count": 5,
   "id": "de06233d-63c4-4273-a1bd-0be2d2a15975",
   "metadata": {},
   "outputs": [
    {
     "name": "stdout",
     "output_type": "stream",
     "text": [
      "apples     3\n",
      "bananas    2\n",
      "oranges    1\n",
      "pears      4\n",
      "dtype: int64\n"
     ]
    }
   ],
   "source": [
    "import pandas as pd\n",
    "# Create panda series\n",
    "fruits = pd.Series({'apples': 3, 'bananas': 2, 'oranges': 1})\n",
    "\n",
    "# Adding new item\n",
    "fruits['pears'] = 4\n",
    "\n",
    "print(fruits)\n",
    "\n"
   ]
  },
  {
   "cell_type": "code",
   "execution_count": 7,
   "id": "6d4cd0ef-a8ae-4146-a27f-ed1a5f00c7e2",
   "metadata": {},
   "outputs": [
    {
     "name": "stdout",
     "output_type": "stream",
     "text": [
      "      name  age  gender\n",
      "0    Alice   25  Female\n",
      "1     Boby   30    Male\n",
      "2   Charly   22    Male\n",
      "3    David   35    Male\n",
      "4   George   28    Male\n",
      "5  Fransis   40    Male\n",
      "6    Grace   32  Female\n",
      "7    shiny   29  Female\n",
      "8     jinu   24    Male\n",
      "9  Jackson   27    Male\n"
     ]
    }
   ],
   "source": [
    "import pandas as pd\n",
    "#Data input\n",
    "data = {\n",
    "    'name': ['Alice', 'Boby', 'Charly', 'David', 'George', 'Fransis', 'Grace', 'shiny', 'jinu', 'Jackson'],\n",
    "    'age': [25, 30, 22, 35, 28, 40, 32, 29, 24, 27],\n",
    "    'gender': ['Female', 'Male', 'Male', 'Male', 'Male', 'Male', 'Female', 'Female', 'Male', 'Male']\n",
    "}\n",
    "df = pd.DataFrame(data)\n",
    "\n",
    "print(df)\n",
    "\n"
   ]
  },
  {
   "cell_type": "code",
   "execution_count": 9,
   "id": "22fc7b93-8d2f-4a65-9bac-74bb8fedbd74",
   "metadata": {},
   "outputs": [
    {
     "name": "stdout",
     "output_type": "stream",
     "text": [
      "      name  age  gender  occupation\n",
      "0    Alice   25  Female  Programmer\n",
      "1     Boby   30    Male     Manager\n",
      "2   Charly   22    Male     Analyst\n",
      "3    David   35    Male  Programmer\n",
      "4   George   28    Male     Manager\n",
      "5  Fransis   40    Male     Analyst\n",
      "6    Grace   32  Female  Programmer\n",
      "7    shiny   29  Female     Manager\n",
      "8     jinu   24    Male     Analyst\n",
      "9  Jackson   27    Male  Programmer\n"
     ]
    }
   ],
   "source": [
    "import pandas as pd\n",
    "#Creating datas\n",
    "df = pd.DataFrame({\n",
    "    'name': ['Alice', 'Boby', 'Charly', 'David', 'George', 'Fransis', 'Grace', 'shiny', 'jinu', 'Jackson'],\n",
    "    'age': [25, 30, 22, 35, 28, 40, 32, 29, 24, 27],\n",
    "    'gender': ['Female', 'Male', 'Male', 'Male', 'Male', 'Male', 'Female', 'Female', 'Male', 'Male']\n",
    "})\n",
    "# Adding new column\n",
    "df['occupation'] = ['Programmer', 'Manager', 'Analyst', 'Programmer', 'Manager', 'Analyst', 'Programmer', 'Manager', 'Analyst', 'Programmer']\n",
    "\n",
    "print(df)\n"
   ]
  },
  {
   "cell_type": "code",
   "execution_count": 11,
   "id": "727bbc57-29d9-420a-9f31-632ac5164ec0",
   "metadata": {},
   "outputs": [
    {
     "name": "stdout",
     "output_type": "stream",
     "text": [
      "      name  age  gender  occupation\n",
      "1     Boby   30    Male     Manager\n",
      "3    David   35    Male  Programmer\n",
      "5  Fransis   40    Male     Analyst\n",
      "6    Grace   32  Female  Programmer\n"
     ]
    }
   ],
   "source": [
    "import pandas as pd\n",
    "# Creating datas\n",
    "df = pd.DataFrame({\n",
    "    'name': ['Alice', 'Boby', 'Charly', 'David', 'George', 'Fransis', 'Grace', 'shiny', 'jinu', 'Jackson'],\n",
    "    'age': [25, 30, 22, 35, 28, 40, 32, 29, 24, 27],\n",
    "    'gender': ['Female', 'Male', 'Male', 'Male', 'Male', 'Male', 'Female', 'Female', 'Male', 'Male'],\n",
    "    'occupation': ['Programmer', 'Manager', 'Analyst', 'Programmer', 'Manager', 'Analyst', 'Programmer', 'Manager', 'Analyst', 'Programmer']\n",
    "})\n",
    "# Select age is >= 30\n",
    "filtered_df = df[df['age'] >= 30]\n",
    "\n",
    "print(filtered_df)\n"
   ]
  },
  {
   "cell_type": "code",
   "execution_count": 13,
   "id": "9ccd222d-5445-48e7-bca7-c4cde433297e",
   "metadata": {},
   "outputs": [
    {
     "name": "stdout",
     "output_type": "stream",
     "text": [
      "      name  age  gender  occupation\n",
      "0    Alice   25  Female  Programmer\n",
      "1     Boby   30    Male     Manager\n",
      "2   Charly   22    Male     Analyst\n",
      "3    David   35    Male  Programmer\n",
      "4   George   28    Male     Manager\n",
      "5  Fransis   40    Male     Analyst\n",
      "6    Grace   32  Female  Programmer\n",
      "7    shiny   29  Female     Manager\n",
      "8     jinu   24    Male     Analyst\n",
      "9  Jackson   27    Male  Programmer\n"
     ]
    }
   ],
   "source": [
    "import pandas as pd\n",
    "# Create the DataFrame\n",
    "df = pd.DataFrame({\n",
    "    'name': ['Alice', 'Boby', 'Charly', 'David', 'George', 'Fransis', 'Grace', 'shiny', 'jinu', 'Jackson'],\n",
    "    'age': [25, 30, 22, 35, 28, 40, 32, 29, 24, 27],\n",
    "    'gender': ['Female', 'Male', 'Male', 'Male', 'Male', 'Male', 'Female', 'Female', 'Male', 'Male'],\n",
    "    'occupation': ['Programmer', 'Manager', 'Analyst', 'Programmer', 'Manager', 'Analyst', 'Programmer', 'Manager', 'Analyst', 'Programmer']\n",
    "})\n",
    "\n",
    "# Save the data to CSV file\n",
    "df.to_csv('data.csv', index=False)\n",
    "# Read the CSV file\n",
    "df_from_csv = pd.read_csv('data.csv')\n",
    "# Display the CSV file\n",
    "print(df_from_csv)\n"
   ]
  },
  {
   "cell_type": "code",
   "execution_count": null,
   "id": "4bc7ad1e-758b-4389-ad20-62024b9bb97a",
   "metadata": {},
   "outputs": [],
   "source": []
  }
 ],
 "metadata": {
  "kernelspec": {
   "display_name": "Python [conda env:base] *",
   "language": "python",
   "name": "conda-base-py"
  },
  "language_info": {
   "codemirror_mode": {
    "name": "ipython",
    "version": 3
   },
   "file_extension": ".py",
   "mimetype": "text/x-python",
   "name": "python",
   "nbconvert_exporter": "python",
   "pygments_lexer": "ipython3",
   "version": "3.12.7"
  }
 },
 "nbformat": 4,
 "nbformat_minor": 5
}
